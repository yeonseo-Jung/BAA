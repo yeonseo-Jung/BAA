{
 "cells": [
  {
   "attachments": {},
   "cell_type": "markdown",
   "metadata": {},
   "source": [
    "---\n",
    "### BAA-G12"
   ]
  },
  {
   "cell_type": "code",
   "execution_count": null,
   "metadata": {},
   "outputs": [],
   "source": [
    "from BAA import run_baa_g12\n",
    "\n",
    "# BAA-G12 params\n",
    "params = {\n",
    "    \"baaAssets\": {\n",
    "        # attack\n",
    "        \"agg1\": \"spy\",\n",
    "        \"agg2\": \"qqq\",\n",
    "        \"agg3\": \"iwm\",\n",
    "        \"agg4\": \"vgk\",\n",
    "        \"agg5\": \"ewj\",\n",
    "        \"agg6\": \"vwo\",\n",
    "        \"agg7\": \"vnq\",\n",
    "        \"agg8\": \"dbc\",\n",
    "        \"agg9\": \"gld\",\n",
    "        \"agg10\": \"tlt\",\n",
    "        \"agg11\": \"hyg\",\n",
    "        \"agg12\": \"lqd\",\n",
    "        \n",
    "        # depend\n",
    "        \"dep1\": \"lqd\",\n",
    "        \"dep2\": \"shy\",\n",
    "        \"dep3\": \"ief\",\n",
    "        \"dep4\": \"dbc\",\n",
    "        \"dep5\": \"tlt\",\n",
    "        \"dep6\": \"bil\",\n",
    "        \"dep7\": \"bnd\",\n",
    "        \n",
    "        # canary\n",
    "        \"can1\": \"spy\",\n",
    "        \"can2\": \"vwo\",\n",
    "        \"can3\": \"vea\",\n",
    "        \"can4\": \"bnd\",\n",
    "    },\n",
    "    \"abs\": \"bil\", \n",
    "    \"bench\": \"spy\",\n",
    "    \"strategy_name\": \"BAA-G12\",\n",
    "    \"startDate\": \"2003-01-01\",\n",
    "    \"endDate\": \"2023-01-01\",\n",
    "}\n",
    "\n",
    "avg_returns_g12 = run_baa_g12(params)"
   ]
  },
  {
   "attachments": {},
   "cell_type": "markdown",
   "metadata": {},
   "source": [
    "---\n",
    "### BAA-G4"
   ]
  },
  {
   "cell_type": "code",
   "execution_count": null,
   "metadata": {},
   "outputs": [],
   "source": [
    "from BAA import run_baa_g4\n",
    "\n",
    "# BAA-G4 params\n",
    "params = {\n",
    "    \"baaAssets\": {\n",
    "        # attack\n",
    "        \"agg1\": \"qqq\",\n",
    "        \"agg2\": \"vwo\",\n",
    "        \"agg3\": \"vea\",\n",
    "        \"agg4\": \"bnd\",\n",
    "        \n",
    "        # depend\n",
    "        \"dep1\": \"lqd\",\n",
    "        \"dep2\": \"shy\",\n",
    "        \"dep3\": \"ief\",\n",
    "        \"dep4\": \"dbc\",\n",
    "        \"dep5\": \"tlt\",\n",
    "        \"dep6\": \"bil\",\n",
    "        \"dep7\": \"bnd\",\n",
    "        \n",
    "        # canary\n",
    "        \"can1\": \"spy\",\n",
    "        \"can2\": \"vwo\",\n",
    "        \"can3\": \"vea\",\n",
    "        \"can4\": \"bnd\",\n",
    "    },\n",
    "    \"abs\": \"bil\",\n",
    "    \"bench\": \"qqq\",\n",
    "    \"strategy_name\": \"BAA-G4\",\n",
    "    \"startDate\": \"2003-01-01\",\n",
    "    \"endDate\": \"2023-01-01\",\n",
    "}\n",
    "\n",
    "avg_returns_g4 = run_baa_g4(params)"
   ]
  }
 ],
 "metadata": {
  "kernelspec": {
   "display_name": "venv",
   "language": "python",
   "name": "python3"
  },
  "language_info": {
   "codemirror_mode": {
    "name": "ipython",
    "version": 3
   },
   "file_extension": ".py",
   "mimetype": "text/x-python",
   "name": "python",
   "nbconvert_exporter": "python",
   "pygments_lexer": "ipython3",
   "version": "3.9.13"
  },
  "orig_nbformat": 4,
  "vscode": {
   "interpreter": {
    "hash": "7f25f49aef01ee3d79a9085ea6a6568b869e00b51cb03480a74e3f542b8c7f26"
   }
  }
 },
 "nbformat": 4,
 "nbformat_minor": 2
}
